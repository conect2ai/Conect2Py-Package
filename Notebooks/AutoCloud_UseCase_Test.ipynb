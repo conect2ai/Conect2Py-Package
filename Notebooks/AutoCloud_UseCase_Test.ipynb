{
 "cells": [
  {
   "cell_type": "code",
   "execution_count": 2,
   "metadata": {},
   "outputs": [],
   "source": [
    "import numpy as np\n",
    "import pandas as pd\n",
    "\n",
    "import matplotlib.pyplot as plt\n",
    "plt.style.use(\"ggplot\")\n",
    "\n",
    "from conect2py.models import TEDADetect\n",
    "from conect2py.models import TEDACloud"
   ]
  },
  {
   "cell_type": "markdown",
   "metadata": {},
   "source": [
    "# Use case"
   ]
  },
  {
   "cell_type": "markdown",
   "metadata": {},
   "source": [
    "## Pre-processing the data"
   ]
  },
  {
   "cell_type": "code",
   "execution_count": 4,
   "metadata": {},
   "outputs": [
    {
     "data": {
      "text/html": [
       "<div>\n",
       "<style scoped>\n",
       "    .dataframe tbody tr th:only-of-type {\n",
       "        vertical-align: middle;\n",
       "    }\n",
       "\n",
       "    .dataframe tbody tr th {\n",
       "        vertical-align: top;\n",
       "    }\n",
       "\n",
       "    .dataframe thead th {\n",
       "        text-align: right;\n",
       "    }\n",
       "</style>\n",
       "<table border=\"1\" class=\"dataframe\">\n",
       "  <thead>\n",
       "    <tr style=\"text-align: right;\">\n",
       "      <th></th>\n",
       "      <th>engine_load</th>\n",
       "      <th>throttle</th>\n",
       "      <th>speed</th>\n",
       "      <th>rpm</th>\n",
       "      <th>latitude</th>\n",
       "      <th>longitude</th>\n",
       "    </tr>\n",
       "  </thead>\n",
       "  <tbody>\n",
       "    <tr>\n",
       "      <th>0</th>\n",
       "      <td>32.0</td>\n",
       "      <td>15.0</td>\n",
       "      <td>16.0</td>\n",
       "      <td>781.0</td>\n",
       "      <td>NaN</td>\n",
       "      <td>NaN</td>\n",
       "    </tr>\n",
       "    <tr>\n",
       "      <th>1</th>\n",
       "      <td>32.0</td>\n",
       "      <td>15.0</td>\n",
       "      <td>16.0</td>\n",
       "      <td>784.0</td>\n",
       "      <td>-5.843676</td>\n",
       "      <td>-35.198215</td>\n",
       "    </tr>\n",
       "    <tr>\n",
       "      <th>2</th>\n",
       "      <td>30.0</td>\n",
       "      <td>15.0</td>\n",
       "      <td>16.0</td>\n",
       "      <td>803.0</td>\n",
       "      <td>-5.843672</td>\n",
       "      <td>-35.198257</td>\n",
       "    </tr>\n",
       "    <tr>\n",
       "      <th>3</th>\n",
       "      <td>32.0</td>\n",
       "      <td>15.0</td>\n",
       "      <td>15.0</td>\n",
       "      <td>786.0</td>\n",
       "      <td>-5.843670</td>\n",
       "      <td>-35.198288</td>\n",
       "    </tr>\n",
       "    <tr>\n",
       "      <th>4</th>\n",
       "      <td>29.0</td>\n",
       "      <td>15.0</td>\n",
       "      <td>15.0</td>\n",
       "      <td>770.0</td>\n",
       "      <td>-5.843665</td>\n",
       "      <td>-35.198341</td>\n",
       "    </tr>\n",
       "  </tbody>\n",
       "</table>\n",
       "</div>"
      ],
      "text/plain": [
       "   engine_load  throttle  speed    rpm  latitude  longitude\n",
       "0         32.0      15.0   16.0  781.0       NaN        NaN\n",
       "1         32.0      15.0   16.0  784.0 -5.843676 -35.198215\n",
       "2         30.0      15.0   16.0  803.0 -5.843672 -35.198257\n",
       "3         32.0      15.0   15.0  786.0 -5.843670 -35.198288\n",
       "4         29.0      15.0   15.0  770.0 -5.843665 -35.198341"
      ]
     },
     "execution_count": 4,
     "metadata": {},
     "output_type": "execute_result"
    }
   ],
   "source": [
    "df_honda = pd.read_csv(\"./dataset_freematics.csv\")\n",
    "df_honda.head()"
   ]
  },
  {
   "cell_type": "code",
   "execution_count": 6,
   "metadata": {},
   "outputs": [],
   "source": [
    "df_honda = df_honda.rename({\"engine_load\": \"engineLoad\", \"speed\":\"speedOBD\", \"throttle\": \"throttlePosManifold\", \"rpm\": \"engineRPM\"}, axis=1)"
   ]
  },
  {
   "cell_type": "code",
   "execution_count": 7,
   "metadata": {},
   "outputs": [],
   "source": [
    "def calculate_radar_area(data_area_radar):\n",
    "    data_area_radar['engineRPM'] = data_area_radar['engineRPM'] / 100\n",
    "    area_values = []\n",
    "\n",
    "    for i in data_area_radar.itertuples():\n",
    "        rpm = i.engineRPM\n",
    "        speed = i.speedOBD\n",
    "        throttle = i.throttlePosManifold\n",
    "        engine = i.engineLoad\n",
    "\n",
    "        values_normalized = [rpm, speed, throttle, engine]\n",
    "        area = 0.5 * np.abs(np.dot(values_normalized, np.roll(values_normalized, 1)) * np.sin(2 * np.pi / len(values_normalized)))\n",
    "        area_values.append(area)\n",
    "\n",
    "    return area_values\n"
   ]
  },
  {
   "cell_type": "code",
   "execution_count": 8,
   "metadata": {},
   "outputs": [
    {
     "name": "stdout",
     "output_type": "stream",
     "text": [
      "<class 'pandas.core.frame.DataFrame'>\n",
      "RangeIndex: 531 entries, 0 to 530\n",
      "Data columns (total 7 columns):\n",
      " #   Column               Non-Null Count  Dtype  \n",
      "---  ------               --------------  -----  \n",
      " 0   engineLoad           531 non-null    float64\n",
      " 1   throttlePosManifold  531 non-null    float64\n",
      " 2   speedOBD             531 non-null    float64\n",
      " 3   engineRPM            531 non-null    float64\n",
      " 4   latitude             369 non-null    float64\n",
      " 5   longitude            369 non-null    float64\n",
      " 6   areas                531 non-null    float64\n",
      "dtypes: float64(7)\n",
      "memory usage: 29.2 KB\n"
     ]
    }
   ],
   "source": [
    "area_radar_dataset = df_honda.copy()\n",
    "area_radar_dataset['areas'] = calculate_radar_area(area_radar_dataset)\n",
    "area_radar_dataset.info()"
   ]
  },
  {
   "cell_type": "markdown",
   "metadata": {},
   "source": [
    "## Initialising the models"
   ]
  },
  {
   "cell_type": "markdown",
   "metadata": {},
   "source": [
    "The code below initialises the models and the counters.\n",
    "\n",
    "Here the two models are used for identifying the driver classification.\n",
    "\n"
   ]
  },
  {
   "cell_type": "code",
   "execution_count": null,
   "metadata": {},
   "outputs": [],
   "source": [
    "# initialize the algorithms\n",
    "teda = TEDADetect()\n",
    "autocloud = TEDACloud()\n",
    "outlier_count = 0\n",
    "outlier_window = 4\n",
    "k = 1\n",
    "\n",
    "total_outliers = 0\n",
    "outliers_resets = 0\n",
    "teda_flag = []\n",
    "resets = []"
   ]
  },
  {
   "cell_type": "markdown",
   "metadata": {},
   "source": [
    "This code is part of a real-time data processing pipeline where TEDA is used for online outlier detection, and AutoCloud is used for clustering the data points. The reset mechanism helps control the window size for outlier detection. The resulting dataset includes an additional column, cloud_index, indicating the cluster index assigned by AutoCloud. The code also keeps track of various counters and flags for analysis and evaluation purposes."
   ]
  },
  {
   "cell_type": "code",
   "execution_count": 10,
   "metadata": {},
   "outputs": [
    {
     "name": "stdout",
     "output_type": "stream",
     "text": [
      "Number of DataClouds: 3\n",
      "DataCloud 1:\n",
      "Number of points: 76\n",
      "Points: {1, 4, 5, 6, 7, 8, 9, 10, 11, 12, 13, 389, 143, 391, 392, 399, 400, 402, 403, 404, 23, 405, 25, 26, 27, 28, 406, 407, 289, 290, 291, 292, 419, 420, 421, 422, 423, 424, 390, 425, 46, 47, 430, 433, 434, 435, 439, 312, 313, 314, 315, 316, 334, 335, 336, 87, 88, 89, 221, 222, 223, 352, 353, 354, 249, 250, 110, 239, 240, 251, 246, 247, 248, 121, 122, 123}\n",
      "Mean: [565.44361842  29.90789474]\n",
      "Variance: 7492.14269136095\n",
      "----------------------------------\n",
      "DataCloud 2:\n",
      "Number of points: 48\n",
      "Points: {257, 2, 258, 4, 5, 6, 7, 8, 9, 10, 11, 12, 13, 261, 143, 264, 265, 23, 25, 26, 27, 28, 260, 300, 301, 46, 47, 302, 303, 321, 87, 88, 89, 343, 346, 221, 222, 223, 349, 229, 110, 121, 122, 123}\n",
      "Mean: [4094.28   94.  ]\n",
      "Variance: 6219.14707140805\n",
      "----------------------------------\n",
      "DataCloud 3:\n",
      "Number of points: 25\n",
      "Points: {3, 4, 5, 6, 7, 8, 9, 10, 12, 13, 14, 17, 18, 29, 30, 32, 33, 34, 49, 51, 52}\n",
      "Mean: [7599.375   90.   ]\n",
      "Variance: 3396.0145206771494\n",
      "----------------------------------\n"
     ]
    }
   ],
   "source": [
    "# iterate over the data\n",
    "for i, row in area_radar_dataset.iterrows():\n",
    "    # run teda to verify if the point is an outlier\n",
    "    outlier = teda.run_online(row[['areas']])\n",
    "\n",
    "    if outlier:\n",
    "        outlier_count += 1\n",
    "        total_outliers += 1\n",
    "        teda_flag.append(1)\n",
    "    else:\n",
    "        teda_flag.append(0)\n",
    "    \n",
    "    if outlier_count == outlier_window or not outlier:\n",
    "        # run autocloud to cluster the points\n",
    "        cloud_index = autocloud.run_online(row[['areas','engineLoad']], k, 2, is_outlier=outlier)\n",
    "        \n",
    "        # get the dataset until the current point\n",
    "        tmp = area_radar_dataset.iloc[:i+1]\n",
    "        # autocloud.plot_graph(tmp[['areas','speedOBD']], k)\n",
    "        k += 1\n",
    "\n",
    "        # add the index to the row\n",
    "        area_radar_dataset.loc[i, 'cloud_index'] = cloud_index\n",
    "    \n",
    "    if outlier_count == outlier_window:\n",
    "        outlier_count = 0\n",
    "        outliers_resets += 1\n",
    "        resets.append(1)\n",
    "    else:\n",
    "        resets.append(0)\n",
    "\n",
    "autocloud.display_metrics()\n"
   ]
  },
  {
   "cell_type": "code",
   "execution_count": 11,
   "metadata": {},
   "outputs": [
    {
     "data": {
      "text/html": [
       "<div>\n",
       "<style scoped>\n",
       "    .dataframe tbody tr th:only-of-type {\n",
       "        vertical-align: middle;\n",
       "    }\n",
       "\n",
       "    .dataframe tbody tr th {\n",
       "        vertical-align: top;\n",
       "    }\n",
       "\n",
       "    .dataframe thead th {\n",
       "        text-align: right;\n",
       "    }\n",
       "</style>\n",
       "<table border=\"1\" class=\"dataframe\">\n",
       "  <thead>\n",
       "    <tr style=\"text-align: right;\">\n",
       "      <th></th>\n",
       "      <th>engineLoad</th>\n",
       "      <th>throttlePosManifold</th>\n",
       "      <th>speedOBD</th>\n",
       "      <th>engineRPM</th>\n",
       "      <th>latitude</th>\n",
       "      <th>longitude</th>\n",
       "      <th>areas</th>\n",
       "      <th>cloud_index</th>\n",
       "      <th>teda_flag</th>\n",
       "      <th>resets</th>\n",
       "    </tr>\n",
       "  </thead>\n",
       "  <tbody>\n",
       "    <tr>\n",
       "      <th>0</th>\n",
       "      <td>32.0</td>\n",
       "      <td>15.0</td>\n",
       "      <td>16.0</td>\n",
       "      <td>7.81</td>\n",
       "      <td>NaN</td>\n",
       "      <td>NaN</td>\n",
       "      <td>547.440</td>\n",
       "      <td>0.0</td>\n",
       "      <td>0</td>\n",
       "      <td>0</td>\n",
       "    </tr>\n",
       "    <tr>\n",
       "      <th>1</th>\n",
       "      <td>32.0</td>\n",
       "      <td>15.0</td>\n",
       "      <td>16.0</td>\n",
       "      <td>7.84</td>\n",
       "      <td>-5.843676</td>\n",
       "      <td>-35.198215</td>\n",
       "      <td>548.160</td>\n",
       "      <td>0.0</td>\n",
       "      <td>0</td>\n",
       "      <td>0</td>\n",
       "    </tr>\n",
       "    <tr>\n",
       "      <th>2</th>\n",
       "      <td>30.0</td>\n",
       "      <td>15.0</td>\n",
       "      <td>16.0</td>\n",
       "      <td>8.03</td>\n",
       "      <td>-5.843672</td>\n",
       "      <td>-35.198257</td>\n",
       "      <td>529.690</td>\n",
       "      <td>NaN</td>\n",
       "      <td>1</td>\n",
       "      <td>0</td>\n",
       "    </tr>\n",
       "    <tr>\n",
       "      <th>3</th>\n",
       "      <td>32.0</td>\n",
       "      <td>15.0</td>\n",
       "      <td>15.0</td>\n",
       "      <td>7.86</td>\n",
       "      <td>-5.843670</td>\n",
       "      <td>-35.198288</td>\n",
       "      <td>537.210</td>\n",
       "      <td>2.0</td>\n",
       "      <td>0</td>\n",
       "      <td>0</td>\n",
       "    </tr>\n",
       "    <tr>\n",
       "      <th>4</th>\n",
       "      <td>29.0</td>\n",
       "      <td>15.0</td>\n",
       "      <td>15.0</td>\n",
       "      <td>7.70</td>\n",
       "      <td>-5.843665</td>\n",
       "      <td>-35.198341</td>\n",
       "      <td>499.400</td>\n",
       "      <td>NaN</td>\n",
       "      <td>1</td>\n",
       "      <td>0</td>\n",
       "    </tr>\n",
       "    <tr>\n",
       "      <th>...</th>\n",
       "      <td>...</td>\n",
       "      <td>...</td>\n",
       "      <td>...</td>\n",
       "      <td>...</td>\n",
       "      <td>...</td>\n",
       "      <td>...</td>\n",
       "      <td>...</td>\n",
       "      <td>...</td>\n",
       "      <td>...</td>\n",
       "      <td>...</td>\n",
       "    </tr>\n",
       "    <tr>\n",
       "      <th>526</th>\n",
       "      <td>29.0</td>\n",
       "      <td>14.0</td>\n",
       "      <td>0.0</td>\n",
       "      <td>7.75</td>\n",
       "      <td>NaN</td>\n",
       "      <td>NaN</td>\n",
       "      <td>315.375</td>\n",
       "      <td>0.0</td>\n",
       "      <td>0</td>\n",
       "      <td>0</td>\n",
       "    </tr>\n",
       "    <tr>\n",
       "      <th>527</th>\n",
       "      <td>29.0</td>\n",
       "      <td>14.0</td>\n",
       "      <td>0.0</td>\n",
       "      <td>7.67</td>\n",
       "      <td>-5.843152</td>\n",
       "      <td>-35.197624</td>\n",
       "      <td>314.215</td>\n",
       "      <td>0.0</td>\n",
       "      <td>0</td>\n",
       "      <td>0</td>\n",
       "    </tr>\n",
       "    <tr>\n",
       "      <th>528</th>\n",
       "      <td>29.0</td>\n",
       "      <td>14.0</td>\n",
       "      <td>0.0</td>\n",
       "      <td>7.86</td>\n",
       "      <td>-5.843153</td>\n",
       "      <td>-35.197624</td>\n",
       "      <td>316.970</td>\n",
       "      <td>0.0</td>\n",
       "      <td>0</td>\n",
       "      <td>0</td>\n",
       "    </tr>\n",
       "    <tr>\n",
       "      <th>529</th>\n",
       "      <td>29.0</td>\n",
       "      <td>14.0</td>\n",
       "      <td>0.0</td>\n",
       "      <td>7.72</td>\n",
       "      <td>-5.843153</td>\n",
       "      <td>-35.197624</td>\n",
       "      <td>314.940</td>\n",
       "      <td>0.0</td>\n",
       "      <td>0</td>\n",
       "      <td>0</td>\n",
       "    </tr>\n",
       "    <tr>\n",
       "      <th>530</th>\n",
       "      <td>28.0</td>\n",
       "      <td>14.0</td>\n",
       "      <td>0.0</td>\n",
       "      <td>7.63</td>\n",
       "      <td>-5.843154</td>\n",
       "      <td>-35.197624</td>\n",
       "      <td>302.820</td>\n",
       "      <td>0.0</td>\n",
       "      <td>0</td>\n",
       "      <td>0</td>\n",
       "    </tr>\n",
       "  </tbody>\n",
       "</table>\n",
       "<p>531 rows × 10 columns</p>\n",
       "</div>"
      ],
      "text/plain": [
       "     engineLoad  throttlePosManifold  speedOBD  engineRPM  latitude  \\\n",
       "0          32.0                 15.0      16.0       7.81       NaN   \n",
       "1          32.0                 15.0      16.0       7.84 -5.843676   \n",
       "2          30.0                 15.0      16.0       8.03 -5.843672   \n",
       "3          32.0                 15.0      15.0       7.86 -5.843670   \n",
       "4          29.0                 15.0      15.0       7.70 -5.843665   \n",
       "..          ...                  ...       ...        ...       ...   \n",
       "526        29.0                 14.0       0.0       7.75       NaN   \n",
       "527        29.0                 14.0       0.0       7.67 -5.843152   \n",
       "528        29.0                 14.0       0.0       7.86 -5.843153   \n",
       "529        29.0                 14.0       0.0       7.72 -5.843153   \n",
       "530        28.0                 14.0       0.0       7.63 -5.843154   \n",
       "\n",
       "     longitude    areas  cloud_index  teda_flag  resets  \n",
       "0          NaN  547.440          0.0          0       0  \n",
       "1   -35.198215  548.160          0.0          0       0  \n",
       "2   -35.198257  529.690          NaN          1       0  \n",
       "3   -35.198288  537.210          2.0          0       0  \n",
       "4   -35.198341  499.400          NaN          1       0  \n",
       "..         ...      ...          ...        ...     ...  \n",
       "526        NaN  315.375          0.0          0       0  \n",
       "527 -35.197624  314.215          0.0          0       0  \n",
       "528 -35.197624  316.970          0.0          0       0  \n",
       "529 -35.197624  314.940          0.0          0       0  \n",
       "530 -35.197624  302.820          0.0          0       0  \n",
       "\n",
       "[531 rows x 10 columns]"
      ]
     },
     "execution_count": 11,
     "metadata": {},
     "output_type": "execute_result"
    }
   ],
   "source": [
    "area_radar_dataset[\"teda_flag\"] = teda_flag\n",
    "area_radar_dataset[\"resets\"] = resets\n",
    "area_radar_dataset"
   ]
  },
  {
   "cell_type": "code",
   "execution_count": 12,
   "metadata": {},
   "outputs": [
    {
     "data": {
      "text/plain": [
       "111"
      ]
     },
     "execution_count": 12,
     "metadata": {},
     "output_type": "execute_result"
    }
   ],
   "source": [
    "total_outliers"
   ]
  },
  {
   "cell_type": "code",
   "execution_count": 13,
   "metadata": {},
   "outputs": [
    {
     "data": {
      "text/plain": [
       "84"
      ]
     },
     "execution_count": 13,
     "metadata": {},
     "output_type": "execute_result"
    }
   ],
   "source": [
    "area_radar_dataset.cloud_index.isna().sum()"
   ]
  },
  {
   "cell_type": "code",
   "execution_count": 14,
   "metadata": {},
   "outputs": [
    {
     "data": {
      "text/plain": [
       "27"
      ]
     },
     "execution_count": 14,
     "metadata": {},
     "output_type": "execute_result"
    }
   ],
   "source": [
    "outliers_resets"
   ]
  },
  {
   "cell_type": "code",
   "execution_count": 15,
   "metadata": {},
   "outputs": [
    {
     "data": {
      "text/plain": [
       "1.0    241\n",
       "0.0    176\n",
       "2.0     30\n",
       "Name: cloud_index, dtype: int64"
      ]
     },
     "execution_count": 15,
     "metadata": {},
     "output_type": "execute_result"
    }
   ],
   "source": [
    "area_radar_dataset.cloud_index.value_counts()"
   ]
  },
  {
   "cell_type": "code",
   "execution_count": 16,
   "metadata": {},
   "outputs": [
    {
     "data": {
      "text/plain": [
       "0    504\n",
       "1     27\n",
       "Name: resets, dtype: int64"
      ]
     },
     "execution_count": 16,
     "metadata": {},
     "output_type": "execute_result"
    }
   ],
   "source": [
    "area_radar_dataset.resets.value_counts()"
   ]
  },
  {
   "cell_type": "code",
   "execution_count": 21,
   "metadata": {},
   "outputs": [
    {
     "data": {
      "text/plain": [
       "cloud_index\n",
       "0.0    187517.975000\n",
       "1.0    375789.194403\n",
       "2.0     27462.965000\n",
       "Name: areas, dtype: float64"
      ]
     },
     "execution_count": 21,
     "metadata": {},
     "output_type": "execute_result"
    }
   ],
   "source": [
    "# get the sum of areas for each cluster\n",
    "area_radar_dataset[area_radar_dataset[\"teda_flag\"] == 0].groupby('cloud_index')['areas'].sum()"
   ]
  },
  {
   "cell_type": "code",
   "execution_count": 37,
   "metadata": {},
   "outputs": [],
   "source": [
    "tmp = area_radar_dataset[area_radar_dataset[\"teda_flag\"] == 0]"
   ]
  },
  {
   "cell_type": "code",
   "execution_count": 39,
   "metadata": {},
   "outputs": [
    {
     "data": {
      "text/plain": [
       "1.0    227\n",
       "0.0    176\n",
       "2.0     17\n",
       "Name: cloud_index, dtype: int64"
      ]
     },
     "execution_count": 39,
     "metadata": {},
     "output_type": "execute_result"
    }
   ],
   "source": [
    "tmp.cloud_index.value_counts()"
   ]
  },
  {
   "cell_type": "code",
   "execution_count": 40,
   "metadata": {},
   "outputs": [
    {
     "data": {
      "text/plain": [
       "cloud_index\n",
       "0.0    187517.975000\n",
       "1.0    375789.194403\n",
       "2.0     27462.965000\n",
       "Name: areas, dtype: float64"
      ]
     },
     "execution_count": 40,
     "metadata": {},
     "output_type": "execute_result"
    }
   ],
   "source": [
    "tmp.groupby('cloud_index')['areas'].sum()"
   ]
  }
 ],
 "metadata": {
  "kernelspec": {
   "display_name": "Python 3",
   "language": "python",
   "name": "python3"
  },
  "language_info": {
   "codemirror_mode": {
    "name": "ipython",
    "version": 3
   },
   "file_extension": ".py",
   "mimetype": "text/x-python",
   "name": "python",
   "nbconvert_exporter": "python",
   "pygments_lexer": "ipython3",
   "version": "3.10.13"
  }
 },
 "nbformat": 4,
 "nbformat_minor": 2
}
